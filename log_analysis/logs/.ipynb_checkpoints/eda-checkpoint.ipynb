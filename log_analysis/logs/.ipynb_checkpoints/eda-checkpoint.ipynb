{
 "cells": [
  {
   "cell_type": "code",
   "execution_count": 267,
   "id": "a7c7f94e-51dc-498e-8d79-f643cacf46a4",
   "metadata": {},
   "outputs": [],
   "source": [
    "import pandas as pd\n",
    "import numpy as np\n",
    "import matplotlib.pyplot as plt\n",
    "\n",
    "from collections import defaultdict"
   ]
  },
  {
   "cell_type": "markdown",
   "id": "e393cc5b-0420-46b7-824d-c8799296b13e",
   "metadata": {},
   "source": [
    "# Load collected queries from the GLACIATION platform"
   ]
  },
  {
   "cell_type": "code",
   "execution_count": 268,
   "id": "5d88b38c-5207-4d17-9428-15d821ef043e",
   "metadata": {},
   "outputs": [
    {
     "name": "stdout",
     "output_type": "stream",
     "text": [
      "['2025-02-04T16:59:47.252850411Z\\n', '2025-02-04T16:59:47.135700992Z\\n', '2025-02-04T16:59:46.945367544Z\\n', '2025-02-04T16:58:55.240473056Z\\n', '2025-02-04T16:58:50.298201242Z\\n']\n",
      "['2025-02-19T11:01:11.581328614Z\\n', '2025-02-19T11:00:56.277260448Z\\n', '2025-02-19T11:00:55.583398755Z\\n', '2025-02-19T11:00:54.575745953Z\\n', '2025-02-19T11:00:53.681519734Z\\n']\n"
     ]
    }
   ],
   "source": [
    "with open('timestamps.txt', 'r') as f:\n",
    "    lines = f.readlines()\n",
    "\n",
    "print(lines[:5])\n",
    "print(lines[-5:])"
   ]
  },
  {
   "cell_type": "code",
   "execution_count": 269,
   "id": "5b6baf80-233e-4b1e-894c-738cedb512c4",
   "metadata": {},
   "outputs": [
    {
     "name": "stdout",
     "output_type": "stream",
     "text": [
      "Total queries: 65719 \n"
     ]
    }
   ],
   "source": [
    "with open('queries.txt', 'r') as f:\n",
    "    lines = f.readlines()\n",
    "\n",
    "print(f'Total queries: {len(lines)} ')"
   ]
  },
  {
   "cell_type": "code",
   "execution_count": 270,
   "id": "163d575c-fb96-4a78-b94b-e89d4605c8f8",
   "metadata": {},
   "outputs": [
    {
     "name": "stdout",
     "output_type": "stream",
     "text": [
      "Total queries: 61989 \n"
     ]
    }
   ],
   "source": [
    "# filter drop queries\n",
    "lines = [l for l in lines if 'DROP' not in l and 'drop' not in l]\n",
    "print(f'Total queries: {len(lines)} ')"
   ]
  },
  {
   "cell_type": "code",
   "execution_count": 271,
   "id": "d94a9a58-5051-49c0-9544-c57ba7b5f9d5",
   "metadata": {},
   "outputs": [],
   "source": [
    "def query2dict(queries: list) -> dict:\n",
    "    qdict = defaultdict(int)\n",
    "    for q in queries:\n",
    "        qdict[q] += 1\n",
    "    return qdict"
   ]
  },
  {
   "cell_type": "code",
   "execution_count": 272,
   "id": "23fee58d-41cb-4735-bbcb-35138e813629",
   "metadata": {},
   "outputs": [
    {
     "name": "stdout",
     "output_type": "stream",
     "text": [
      "Distinct queries: 909\n"
     ]
    },
    {
     "data": {
      "text/html": [
       "<div>\n",
       "<style scoped>\n",
       "    .dataframe tbody tr th:only-of-type {\n",
       "        vertical-align: middle;\n",
       "    }\n",
       "\n",
       "    .dataframe tbody tr th {\n",
       "        vertical-align: top;\n",
       "    }\n",
       "\n",
       "    .dataframe thead th {\n",
       "        text-align: right;\n",
       "    }\n",
       "</style>\n",
       "<table border=\"1\" class=\"dataframe\">\n",
       "  <thead>\n",
       "    <tr style=\"text-align: right;\">\n",
       "      <th></th>\n",
       "      <th>query</th>\n",
       "      <th>count</th>\n",
       "    </tr>\n",
       "  </thead>\n",
       "  <tbody>\n",
       "    <tr>\n",
       "      <th>1</th>\n",
       "      <td>PREFIX rdf: &lt;http://www.w3.org/1999/02/22-rdf-...</td>\n",
       "      <td>17708</td>\n",
       "    </tr>\n",
       "    <tr>\n",
       "      <th>0</th>\n",
       "      <td>PREFIX rdf: &lt;http://www.w3.org/1999/02/22-rdf-...</td>\n",
       "      <td>17708</td>\n",
       "    </tr>\n",
       "    <tr>\n",
       "      <th>2</th>\n",
       "      <td>PREFIX rdf: &lt;http://www.w3.org/1999/02/22-rdf-...</td>\n",
       "      <td>17707</td>\n",
       "    </tr>\n",
       "    <tr>\n",
       "      <th>3</th>\n",
       "      <td>PREFIX xsd: &lt;http://www.w3.org/2001/XMLSchema#...</td>\n",
       "      <td>6838</td>\n",
       "    </tr>\n",
       "    <tr>\n",
       "      <th>4</th>\n",
       "      <td>PREFIX rdf: &lt;http://www.w3.org/1999/02/22-rdf-...</td>\n",
       "      <td>1088</td>\n",
       "    </tr>\n",
       "    <tr>\n",
       "      <th>...</th>\n",
       "      <td>...</td>\n",
       "      <td>...</td>\n",
       "    </tr>\n",
       "    <tr>\n",
       "      <th>311</th>\n",
       "      <td>PREFIX rdf: &lt;http://www.w3.org/1999/02/22-rdf-...</td>\n",
       "      <td>1</td>\n",
       "    </tr>\n",
       "    <tr>\n",
       "      <th>312</th>\n",
       "      <td>PREFIX rdf: &lt;http://www.w3.org/1999/02/22-rdf-...</td>\n",
       "      <td>1</td>\n",
       "    </tr>\n",
       "    <tr>\n",
       "      <th>313</th>\n",
       "      <td>PREFIX xsd: &lt;http://www.w3.org/2001/XMLSchema#...</td>\n",
       "      <td>1</td>\n",
       "    </tr>\n",
       "    <tr>\n",
       "      <th>314</th>\n",
       "      <td>PREFIX xsd: &lt;http://www.w3.org/2001/XMLSchema#...</td>\n",
       "      <td>1</td>\n",
       "    </tr>\n",
       "    <tr>\n",
       "      <th>300</th>\n",
       "      <td>PREFIX rdf: &lt;http://www.w3.org/1999/02/22-rdf-...</td>\n",
       "      <td>1</td>\n",
       "    </tr>\n",
       "  </tbody>\n",
       "</table>\n",
       "<p>909 rows × 2 columns</p>\n",
       "</div>"
      ],
      "text/plain": [
       "                                                 query  count\n",
       "1    PREFIX rdf: <http://www.w3.org/1999/02/22-rdf-...  17708\n",
       "0    PREFIX rdf: <http://www.w3.org/1999/02/22-rdf-...  17708\n",
       "2    PREFIX rdf: <http://www.w3.org/1999/02/22-rdf-...  17707\n",
       "3    PREFIX xsd: <http://www.w3.org/2001/XMLSchema#...   6838\n",
       "4    PREFIX rdf: <http://www.w3.org/1999/02/22-rdf-...   1088\n",
       "..                                                 ...    ...\n",
       "311  PREFIX rdf: <http://www.w3.org/1999/02/22-rdf-...      1\n",
       "312  PREFIX rdf: <http://www.w3.org/1999/02/22-rdf-...      1\n",
       "313  PREFIX xsd: <http://www.w3.org/2001/XMLSchema#...      1\n",
       "314  PREFIX xsd: <http://www.w3.org/2001/XMLSchema#...      1\n",
       "300  PREFIX rdf: <http://www.w3.org/1999/02/22-rdf-...      1\n",
       "\n",
       "[909 rows x 2 columns]"
      ]
     },
     "execution_count": 272,
     "metadata": {},
     "output_type": "execute_result"
    }
   ],
   "source": [
    "qdict = query2dict(lines)\n",
    "df = pd.DataFrame({\n",
    "    'query': qdict.keys(),\n",
    "    'count': qdict.values()\n",
    "})\n",
    "\n",
    "df = df.sort_values(by='count', ascending=False)\n",
    "\n",
    "print(f'Distinct queries: {len(df)}')\n",
    "\n",
    "df"
   ]
  },
  {
   "cell_type": "code",
   "execution_count": 273,
   "id": "4873b482-b530-4d20-a791-80b9352b50d6",
   "metadata": {},
   "outputs": [
    {
     "data": {
      "image/png": "[encoded data removed]",
      "text/plain": [
       "<Figure size 640x480 with 1 Axes>"
      ]
     },
     "metadata": {},
     "output_type": "display_data"
    },
    {
     "name": "stdout",
     "output_type": "stream",
     "text": [
      "Count > 1 queries: 13\n"
     ]
    }
   ],
   "source": [
    "num_to_plot = 100\n",
    "\n",
    "fig, ax = plt.subplots()\n",
    "ax.bar(list(range(num_to_plot)), list(df['count'])[:num_to_plot])\n",
    "ax.set_yscale('log')\n",
    "plt.show()\n",
    "\n",
    "print(f'Count > 1 queries: {len(df.loc[df[\"count\"]>1])}')"
   ]
  },
  {
   "cell_type": "markdown",
   "id": "2b72ba69-3500-4ac1-abd9-8141c3155f8f",
   "metadata": {},
   "source": [
    "# Entropy of queries and distinct ones"
   ]
  },
  {
   "cell_type": "code",
   "execution_count": 274,
   "id": "cf83c098-370f-48c2-afab-6be9f380801a",
   "metadata": {},
   "outputs": [],
   "source": [
    "def entropy(probs: list) -> float:\n",
    "    \"\"\" Return entropy of list of probabilities \"\"\"\n",
    "    return -sum([p*np.log(p) for p in probs])"
   ]
  },
  {
   "cell_type": "code",
   "execution_count": 275,
   "id": "2bb30bca-2f5c-476b-9410-41ecc34df1f2",
   "metadata": {},
   "outputs": [
    {
     "name": "stdout",
     "output_type": "stream",
     "text": [
      "Uniform entropy: 11.034712228931713\n",
      "Query as template entropy: 1.5538553596251987\n"
     ]
    }
   ],
   "source": [
    "print(f'Uniform entropy: {np.log(len(lines))}')\n",
    "print(f'Query as template entropy: {entropy([x/len(lines) for x in df[\"count\"]])}')"
   ]
  },
  {
   "cell_type": "code",
   "execution_count": 276,
   "id": "6c4a8570-1497-4f97-a266-9a3c1cdc4c13",
   "metadata": {},
   "outputs": [
    {
     "data": {
      "text/plain": [
       "909"
      ]
     },
     "execution_count": 276,
     "metadata": {},
     "output_type": "execute_result"
    }
   ],
   "source": [
    "with open('distinct_sorted_templates.txt', 'r') as f:\n",
    "    lines = f.readlines()\n",
    "\n",
    "from collections import Counter\n",
    "\n",
    "templates = Counter(lines)\n",
    "len(templates)"
   ]
  },
  {
   "cell_type": "code",
   "execution_count": 277,
   "id": "2407e2f3-78d0-4ecb-b3f1-2426517ffc6d",
   "metadata": {},
   "outputs": [
    {
     "name": "stdout",
     "output_type": "stream",
     "text": [
      "PREFIX rdf: <http://www.w3.org/1999/02/22-rdf-syntax-ns#>             PREFIX xsd: <http://www.w3.org/2001/XMLSchema#>             SELECT ?resource ?statusValue             WHERE {                 {                     SELECT ?graphURI WHERE {                         GRAPH ?graphURI {}                         FILTER regex(str(?graphURI), \"^timestamp:\")                     }                     ORDER BY DESC(xsd:integer(replace(str(?graphURI), \"^timestamp:\", \"\")))                     LIMIT 1                 }                 GRAPH ?graphURI {                     SELECT ?pod ?resource ?statusValue WHERE {                         ?resource rdf:type <glc:WorkProducingResource>.                         ?resource <glc:hasDescription> \"Container\".                         ?resource <glc:hasStatus> ?status.                         ?status <glc:hasDescription> ?statusValue.                         FILTER NOT EXISTS{ ?status <glc:hasDescription> 'Succeeded' }.                         FILTER NOT EXISTS{ ?status <glc:hasDescription> 'Failed' }.                         FILTER NOT EXISTS{ ?status <glc:hasDescription> 'Unknown' }.                         FILTER NOT EXISTS{ ?status <glc:hasDescription> 'NotReady' }.                         FILTER NOT EXISTS{ ?status <glc:hasDescription> 'terminated' }.                     }                 }             }\n",
      "\n"
     ]
    }
   ],
   "source": [
    "print(df.iloc[0]['query'])"
   ]
  },
  {
   "cell_type": "code",
   "execution_count": 278,
   "id": "42363ad5-5a2e-423f-be0c-089d63d74724",
   "metadata": {},
   "outputs": [
    {
     "name": "stdout",
     "output_type": "stream",
     "text": [
      "PREFIX rdf: <http://www.w3.org/1999/02/22-rdf-syntax-ns#>             PREFIX xsd: <http://www.w3.org/2001/XMLSchema#>             SELECT ?resource ?statusValue             WHERE {                 {                     SELECT ?graphURI WHERE {                         GRAPH ?graphURI {}                         FILTER regex(str(?graphURI), \"^timestamp:\")                     }                     ORDER BY DESC(xsd:integer(replace(str(?graphURI), \"^timestamp:\", \"\")))                     LIMIT 1                 }                 GRAPH ?graphURI {                     SELECT ?pod ?resource ?statusValue WHERE {                         ?resource rdf:type <glc:WorkProducingResource>.                         ?resource <glc:hasDescription> \"KubernetesWorkerNode\".                         ?resource <glc:hasStatus> ?status.                         ?status <glc:hasDescription> ?statusValue.                         FILTER NOT EXISTS{ ?status <glc:hasDescription> 'Succeeded' }.                         FILTER NOT EXISTS{ ?status <glc:hasDescription> 'Failed' }.                         FILTER NOT EXISTS{ ?status <glc:hasDescription> 'Unknown' }.                         FILTER NOT EXISTS{ ?status <glc:hasDescription> 'NotReady' }.                         FILTER NOT EXISTS{ ?status <glc:hasDescription> 'terminated' }.                     }                 }             }\n",
      "\n"
     ]
    }
   ],
   "source": [
    "print(df.iloc[1]['query'])"
   ]
  },
  {
   "cell_type": "code",
   "execution_count": 279,
   "id": "c9877013-ae7d-4d71-ba5f-d666717f6198",
   "metadata": {},
   "outputs": [
    {
     "name": "stdout",
     "output_type": "stream",
     "text": [
      "PREFIX rdf: <http://www.w3.org/1999/02/22-rdf-syntax-ns#>             PREFIX xsd: <http://www.w3.org/2001/XMLSchema#>             SELECT ?resource ?statusValue             WHERE {                 {                     SELECT ?graphURI WHERE {                         GRAPH ?graphURI {}                         FILTER regex(str(?graphURI), \"^timestamp:\")                     }                     ORDER BY DESC(xsd:integer(replace(str(?graphURI), \"^timestamp:\", \"\")))                     LIMIT 1                 }                 GRAPH ?graphURI {                     SELECT ?pod ?resource ?statusValue WHERE {                         ?resource rdf:type <glc:WorkProducingResource>.                         ?resource <glc:hasDescription> \"Pod\".                         ?resource <glc:hasStatus> ?status.                         ?status <glc:hasDescription> ?statusValue.                         FILTER NOT EXISTS{ ?status <glc:hasDescription> 'Succeeded' }.                         FILTER NOT EXISTS{ ?status <glc:hasDescription> 'Failed' }.                         FILTER NOT EXISTS{ ?status <glc:hasDescription> 'Unknown' }.                         FILTER NOT EXISTS{ ?status <glc:hasDescription> 'NotReady' }.                         FILTER NOT EXISTS{ ?status <glc:hasDescription> 'terminated' }.                     }                 }             }\n",
      "\n"
     ]
    }
   ],
   "source": [
    "print(df.iloc[2]['query'])"
   ]
  },
  {
   "cell_type": "code",
   "execution_count": 280,
   "id": "389da04f-b323-43a2-be5f-1432b9826d68",
   "metadata": {},
   "outputs": [
    {
     "name": "stdout",
     "output_type": "stream",
     "text": [
      "PREFIX xsd: <http://www.w3.org/2001/XMLSchema#>  SELECT ?graphURI WHERE {   GRAPH ?graphURI {}   FILTER regex(str(?graphURI), \"^timestamp:\") } # ORDER BY ASC(xsd:integer(replace(str(?graphURI), \"^timestamp:\", \"\")))\n",
      "\n"
     ]
    }
   ],
   "source": [
    "print(df.iloc[3]['query'])"
   ]
  },
  {
   "cell_type": "code",
   "execution_count": 281,
   "id": "026772ec-6be1-43f0-8ac8-a24554d9a5aa",
   "metadata": {},
   "outputs": [
    {
     "name": "stdout",
     "output_type": "stream",
     "text": [
      "PREFIX rdf: <http://www.w3.org/1999/02/22-rdf-syntax-ns#>     PREFIX rdfs: <http://www.w3.org/2000/01/rdf-schema#>     PREFIX glc: <https://glaciation-project.eu/MetadataReferenceModel#>     PREFIX saref: <https://saref.etsi.org/core/>      SELECT * WHERE {         { GRAPH ?g              {             ?s saref:hasIdentifier ?robotId .             ?s glc:hasSubResource ?yolo .             ?yolo glc:makesMeasurement ?label .             ?label saref:relatesToProperty glc:name .             ?label saref:hasValue ?v .             ?yolo glc:makesMeasurement ?conf .             ?conf saref:relatesToProperty glc:confidence .             ?conf saref:hasValue ?confVal .             }         }          FILTER (STRSTARTS(STR(?g), 'https://glaciation-project.eu/uc/2'))     }\n",
      "\n"
     ]
    }
   ],
   "source": [
    "print(df.iloc[4]['query'])"
   ]
  },
  {
   "cell_type": "code",
   "execution_count": 282,
   "id": "3469829a-b592-44f8-8e31-b9c8e48503f1",
   "metadata": {},
   "outputs": [
    {
     "name": "stdout",
     "output_type": "stream",
     "text": [
      "PREFIX rdf: <http://www.w3.org/1999/02/22-rdf-syntax-ns#> PREFIX xsd: <http://www.w3.org/2001/XMLSchema#>  SELECT ?pod ?node ?measurement ?measurementName ?timestamp ?unit ?value ?startTime ?endTime WHERE {   BIND(1739235600000 as ?intervalStart).   BIND(1739237400000 as ?intervalEnd).   {     SELECT ?graphURI ?timeslice WHERE {       GRAPH ?graphURI {}       FILTER regex(str(?graphURI), \"^timestamp:\")       BIND(xsd:integer(replace(str(?graphURI), \"^timestamp:\", \"\")) as ?timeslice).     }   }   FILTER(?timeslice >= ?intervalStart && ?timeslice < ?intervalEnd)   GRAPH ?graphURI {     {       SELECT ?pod ?measurement ?node ?measurementName ?ts ?value ?unit ?startTime ?endTime WHERE {         ?pod <glc:hasDescription> \"Pod\".         ?pod <glc:hasMeasurement> ?measurement.         ?pod <glc:consumes> ?node.         ?measurement <glc:hasDescription> ?measurementName.         ?measurement <glc:hasTimestamp> ?ts.         ?measurement <glc:hasValue> ?value.         ?measurement <glc:measuredIn> ?unit.         ?pod <glc:hasStatus> ?status.         OPTIONAL{ ?status <glc:startTime> ?startTime }         OPTIONAL{ ?status <glc:endTime> ?endTime }       }     }     UNION     {       SELECT ?pod ?measurement ?node ?measurementName ?ts ?value ?unit ?startTime ?endTime WHERE {         BIND(0 as ?ts).         ?pod <glc:hasDescription> \"Pod\".         ?pod <glc:consumes> ?node.         ?task_definition rdf:type <glc:AssignedTask> .         ?task_definition <glc:makes> ?pod.         ?task_definition <glc:hasConstraint> ?measurement.         ?measurement <glc:hasDescription> ?measurementName.         ?measurement <glc:maxValue> ?value.         ?measurement <glc:measuredIn> ?unit.         ?pod <glc:hasStatus> ?status.         OPTIONAL{ ?status <glc:startTime> ?startTime }         OPTIONAL{ ?status <glc:endTime> ?endTime }       }     }     UNION     {       SELECT ?pod ?measurement ?node ?measurementName ?ts ?value ?unit ?startTime ?endTime WHERE {         ?pod <glc:hasDescription> \"Pod\".         ?pod <glc:consumes> ?node.         ?replicaset <glc:hasDescription> \"ReplicaSet\".         ?replicaset rdf:type <glc:AssignedTask> .         ?replicaset <glc:makes> ?pod.         ?task_definition rdf:type <glc:AssignedTask> .         ?task_definition <glc:makes> ?replicaset.         ?task_definition <glc:hasConstraint> ?measurement.         ?measurement <glc:hasDescription> ?measurementName.         ?measurement <glc:hasTimestamp> ?ts.         ?measurement <glc:hasValue> ?value.         ?measurement <glc:measuredIn> ?unit.         ?pod <glc:hasStatus> ?status.         OPTIONAL{ ?status <glc:startTime> ?startTime }         OPTIONAL{ ?status <glc:endTime> ?endTime }       }     }   }   BIND(IF(?ts = 0,xsd:integer(replace(str(?graphURI), \"^timestamp:\", \"\")),?ts) as ?timestamp) } ORDER BY DESC(?measurement)\n",
      "\n"
     ]
    }
   ],
   "source": [
    "print(df.iloc[120]['query'])"
   ]
  },
  {
   "cell_type": "code",
   "execution_count": 283,
   "id": "0402ef2f-cf5d-49d3-bbb2-34017d7a527f",
   "metadata": {},
   "outputs": [
    {
     "name": "stdout",
     "output_type": "stream",
     "text": [
      "PREFIX rdf: <http://www.w3.org/1999/02/22-rdf-syntax-ns#> PREFIX xsd: <http://www.w3.org/2001/XMLSchema#>  SELECT ?pod ?node ?measurement ?measurementName ?timestamp ?unit ?value ?startTime ?endTime WHERE {   BIND(1738944000000 as ?intervalStart).   BIND(1738945800000 as ?intervalEnd).   {     SELECT ?graphURI ?timeslice WHERE {       GRAPH ?graphURI {}       FILTER regex(str(?graphURI), \"^timestamp:\")       BIND(xsd:integer(replace(str(?graphURI), \"^timestamp:\", \"\")) as ?timeslice).     }   }   FILTER(?timeslice >= ?intervalStart && ?timeslice < ?intervalEnd)   GRAPH ?graphURI {     {       SELECT ?pod ?measurement ?node ?measurementName ?ts ?value ?unit ?startTime ?endTime WHERE {         ?pod <glc:hasDescription> \"Pod\".         ?pod <glc:hasMeasurement> ?measurement.         ?pod <glc:consumes> ?node.         ?measurement <glc:hasDescription> ?measurementName.         ?measurement <glc:hasTimestamp> ?ts.         ?measurement <glc:hasValue> ?value.         ?measurement <glc:measuredIn> ?unit.         ?pod <glc:hasStatus> ?status.         OPTIONAL{ ?status <glc:startTime> ?startTime }         OPTIONAL{ ?status <glc:endTime> ?endTime }       }     }     UNION     {       SELECT ?pod ?measurement ?node ?measurementName ?ts ?value ?unit ?startTime ?endTime WHERE {         BIND(0 as ?ts).         ?pod <glc:hasDescription> \"Pod\".         ?pod <glc:consumes> ?node.         ?task_definition rdf:type <glc:AssignedTask> .         ?task_definition <glc:makes> ?pod.         ?task_definition <glc:hasConstraint> ?measurement.         ?measurement <glc:hasDescription> ?measurementName.         ?measurement <glc:maxValue> ?value.         ?measurement <glc:measuredIn> ?unit.         ?pod <glc:hasStatus> ?status.         OPTIONAL{ ?status <glc:startTime> ?startTime }         OPTIONAL{ ?status <glc:endTime> ?endTime }       }     }     UNION     {       SELECT ?pod ?measurement ?node ?measurementName ?ts ?value ?unit ?startTime ?endTime WHERE {         ?pod <glc:hasDescription> \"Pod\".         ?pod <glc:consumes> ?node.         ?replicaset <glc:hasDescription> \"ReplicaSet\".         ?replicaset rdf:type <glc:AssignedTask> .         ?replicaset <glc:makes> ?pod.         ?task_definition rdf:type <glc:AssignedTask> .         ?task_definition <glc:makes> ?replicaset.         ?task_definition <glc:hasConstraint> ?measurement.         ?measurement <glc:hasDescription> ?measurementName.         ?measurement <glc:hasTimestamp> ?ts.         ?measurement <glc:hasValue> ?value.         ?measurement <glc:measuredIn> ?unit.         ?pod <glc:hasStatus> ?status.         OPTIONAL{ ?status <glc:startTime> ?startTime }         OPTIONAL{ ?status <glc:endTime> ?endTime }       }     }   }   BIND(IF(?ts = 0,xsd:integer(replace(str(?graphURI), \"^timestamp:\", \"\")),?ts) as ?timestamp) } ORDER BY DESC(?measurement)\n",
      "\n"
     ]
    }
   ],
   "source": [
    "print(df.iloc[-1]['query'])"
   ]
  },
  {
   "cell_type": "code",
   "execution_count": 284,
   "id": "57f8612e-121f-41eb-8659-c1ad1313b8ad",
   "metadata": {},
   "outputs": [],
   "source": [
    "import re\n",
    "\n",
    "pattern = r\"<glc:([^>]+)>\"\n",
    "replacement = r\"<https://glaciation-project.eu/MetadataReferenceModel/1.0.0/#\\1>\"\n",
    "\n",
    "with open('distict_sorted_queries.txt', 'w') as f:\n",
    "    for q in df['query'].values:\n",
    "        f.write(re.sub(pattern, replacement, q))"
   ]
  },
  {
   "cell_type": "code",
   "execution_count": 285,
   "id": "25827af1-11a6-4f06-9a0f-21778fa06d54",
   "metadata": {},
   "outputs": [
    {
     "data": {
      "text/html": [
       "<div>\n",
       "<style scoped>\n",
       "    .dataframe tbody tr th:only-of-type {\n",
       "        vertical-align: middle;\n",
       "    }\n",
       "\n",
       "    .dataframe tbody tr th {\n",
       "        vertical-align: top;\n",
       "    }\n",
       "\n",
       "    .dataframe thead th {\n",
       "        text-align: right;\n",
       "    }\n",
       "</style>\n",
       "<table border=\"1\" class=\"dataframe\">\n",
       "  <thead>\n",
       "    <tr style=\"text-align: right;\">\n",
       "      <th></th>\n",
       "      <th>query</th>\n",
       "      <th>count</th>\n",
       "    </tr>\n",
       "  </thead>\n",
       "  <tbody>\n",
       "    <tr>\n",
       "      <th>1</th>\n",
       "      <td>PREFIX rdf: &lt;http://www.w3.org/1999/02/22-rdf-...</td>\n",
       "      <td>17708</td>\n",
       "    </tr>\n",
       "    <tr>\n",
       "      <th>0</th>\n",
       "      <td>PREFIX rdf: &lt;http://www.w3.org/1999/02/22-rdf-...</td>\n",
       "      <td>17708</td>\n",
       "    </tr>\n",
       "    <tr>\n",
       "      <th>2</th>\n",
       "      <td>PREFIX rdf: &lt;http://www.w3.org/1999/02/22-rdf-...</td>\n",
       "      <td>17707</td>\n",
       "    </tr>\n",
       "    <tr>\n",
       "      <th>3</th>\n",
       "      <td>PREFIX xsd: &lt;http://www.w3.org/2001/XMLSchema#...</td>\n",
       "      <td>6838</td>\n",
       "    </tr>\n",
       "    <tr>\n",
       "      <th>4</th>\n",
       "      <td>PREFIX rdf: &lt;http://www.w3.org/1999/02/22-rdf-...</td>\n",
       "      <td>1088</td>\n",
       "    </tr>\n",
       "    <tr>\n",
       "      <th>...</th>\n",
       "      <td>...</td>\n",
       "      <td>...</td>\n",
       "    </tr>\n",
       "    <tr>\n",
       "      <th>311</th>\n",
       "      <td>PREFIX rdf: &lt;http://www.w3.org/1999/02/22-rdf-...</td>\n",
       "      <td>1</td>\n",
       "    </tr>\n",
       "    <tr>\n",
       "      <th>312</th>\n",
       "      <td>PREFIX rdf: &lt;http://www.w3.org/1999/02/22-rdf-...</td>\n",
       "      <td>1</td>\n",
       "    </tr>\n",
       "    <tr>\n",
       "      <th>313</th>\n",
       "      <td>PREFIX xsd: &lt;http://www.w3.org/2001/XMLSchema#...</td>\n",
       "      <td>1</td>\n",
       "    </tr>\n",
       "    <tr>\n",
       "      <th>314</th>\n",
       "      <td>PREFIX xsd: &lt;http://www.w3.org/2001/XMLSchema#...</td>\n",
       "      <td>1</td>\n",
       "    </tr>\n",
       "    <tr>\n",
       "      <th>300</th>\n",
       "      <td>PREFIX rdf: &lt;http://www.w3.org/1999/02/22-rdf-...</td>\n",
       "      <td>1</td>\n",
       "    </tr>\n",
       "  </tbody>\n",
       "</table>\n",
       "<p>909 rows × 2 columns</p>\n",
       "</div>"
      ],
      "text/plain": [
       "                                                 query  count\n",
       "1    PREFIX rdf: <http://www.w3.org/1999/02/22-rdf-...  17708\n",
       "0    PREFIX rdf: <http://www.w3.org/1999/02/22-rdf-...  17708\n",
       "2    PREFIX rdf: <http://www.w3.org/1999/02/22-rdf-...  17707\n",
       "3    PREFIX xsd: <http://www.w3.org/2001/XMLSchema#...   6838\n",
       "4    PREFIX rdf: <http://www.w3.org/1999/02/22-rdf-...   1088\n",
       "..                                                 ...    ...\n",
       "311  PREFIX rdf: <http://www.w3.org/1999/02/22-rdf-...      1\n",
       "312  PREFIX rdf: <http://www.w3.org/1999/02/22-rdf-...      1\n",
       "313  PREFIX xsd: <http://www.w3.org/2001/XMLSchema#...      1\n",
       "314  PREFIX xsd: <http://www.w3.org/2001/XMLSchema#...      1\n",
       "300  PREFIX rdf: <http://www.w3.org/1999/02/22-rdf-...      1\n",
       "\n",
       "[909 rows x 2 columns]"
      ]
     },
     "execution_count": 285,
     "metadata": {},
     "output_type": "execute_result"
    }
   ],
   "source": [
    "df"
   ]
  },
  {
   "cell_type": "markdown",
   "id": "82604f4d-646a-4f8a-9803-ddda5e871b62",
   "metadata": {},
   "source": [
    "# Analysis after the discovery of templates"
   ]
  },
  {
   "cell_type": "code",
   "execution_count": 286,
   "id": "e2436ea0-d663-48da-a877-8256cf3ad239",
   "metadata": {},
   "outputs": [
    {
     "name": "stdout",
     "output_type": "stream",
     "text": [
      "909 909\n"
     ]
    }
   ],
   "source": [
    "with open('T_generalized', 'r') as f:\n",
    "    T_generalized = f.readlines()\n",
    "with open('T_specialized', 'r') as f:\n",
    "    T_specialized = f.readlines()\n",
    "\n",
    "print(len(T_generalized), len(T_specialized))\n",
    "\n",
    "df['T_generalized'] = T_generalized\n",
    "df['T_specialized'] = T_specialized"
   ]
  },
  {
   "cell_type": "code",
   "execution_count": 287,
   "id": "efa83bce-85a6-4bc8-8695-085af1f006e3",
   "metadata": {},
   "outputs": [
    {
     "data": {
      "text/html": [
       "<div>\n",
       "<style scoped>\n",
       "    .dataframe tbody tr th:only-of-type {\n",
       "        vertical-align: middle;\n",
       "    }\n",
       "\n",
       "    .dataframe tbody tr th {\n",
       "        vertical-align: top;\n",
       "    }\n",
       "\n",
       "    .dataframe thead th {\n",
       "        text-align: right;\n",
       "    }\n",
       "</style>\n",
       "<table border=\"1\" class=\"dataframe\">\n",
       "  <thead>\n",
       "    <tr style=\"text-align: right;\">\n",
       "      <th></th>\n",
       "      <th>query</th>\n",
       "      <th>count</th>\n",
       "      <th>T_generalized</th>\n",
       "      <th>T_specialized</th>\n",
       "    </tr>\n",
       "  </thead>\n",
       "  <tbody>\n",
       "    <tr>\n",
       "      <th>1</th>\n",
       "      <td>PREFIX rdf: &lt;http://www.w3.org/1999/02/22-rdf-...</td>\n",
       "      <td>17708</td>\n",
       "      <td>SELECT ?var0 ?var1 WHERE { { SELECT ?var2 WHER...</td>\n",
       "      <td>SELECT ?var0 ?var1 WHERE { { SELECT ?var2 WHER...</td>\n",
       "    </tr>\n",
       "    <tr>\n",
       "      <th>0</th>\n",
       "      <td>PREFIX rdf: &lt;http://www.w3.org/1999/02/22-rdf-...</td>\n",
       "      <td>17708</td>\n",
       "      <td>SELECT ?var0 ?var1 WHERE { { SELECT ?var2 WHER...</td>\n",
       "      <td>SELECT ?var0 ?var1 WHERE { { SELECT ?var2 WHER...</td>\n",
       "    </tr>\n",
       "    <tr>\n",
       "      <th>2</th>\n",
       "      <td>PREFIX rdf: &lt;http://www.w3.org/1999/02/22-rdf-...</td>\n",
       "      <td>17707</td>\n",
       "      <td>SELECT ?var0 ?var1 WHERE { { SELECT ?var2 WHER...</td>\n",
       "      <td>SELECT ?var0 ?var1 WHERE { { SELECT ?var2 WHER...</td>\n",
       "    </tr>\n",
       "    <tr>\n",
       "      <th>3</th>\n",
       "      <td>PREFIX xsd: &lt;http://www.w3.org/2001/XMLSchema#...</td>\n",
       "      <td>6838</td>\n",
       "      <td>SELECT ?var0 WHERE { GRAPH ?var0 { } FILTER re...</td>\n",
       "      <td>SELECT ?var0 WHERE { GRAPH ?var0 { } FILTER re...</td>\n",
       "    </tr>\n",
       "    <tr>\n",
       "      <th>4</th>\n",
       "      <td>PREFIX rdf: &lt;http://www.w3.org/1999/02/22-rdf-...</td>\n",
       "      <td>1088</td>\n",
       "      <td>SELECT * WHERE { GRAPH ?var5ar0 { ?var5ar1 $_1...</td>\n",
       "      <td>SELECT * WHERE { GRAPH ?var5ar0 { ?var5ar1 $_1...</td>\n",
       "    </tr>\n",
       "    <tr>\n",
       "      <th>...</th>\n",
       "      <td>...</td>\n",
       "      <td>...</td>\n",
       "      <td>...</td>\n",
       "      <td>...</td>\n",
       "    </tr>\n",
       "    <tr>\n",
       "      <th>311</th>\n",
       "      <td>PREFIX rdf: &lt;http://www.w3.org/1999/02/22-rdf-...</td>\n",
       "      <td>1</td>\n",
       "      <td>SELECT ?var0 ?var1 ?var2 ?var2Name ?var4 ?var5...</td>\n",
       "      <td>SELECT ?var0 ?var1 ?var2 ?var2Name ?var4 ?var5...</td>\n",
       "    </tr>\n",
       "    <tr>\n",
       "      <th>312</th>\n",
       "      <td>PREFIX rdf: &lt;http://www.w3.org/1999/02/22-rdf-...</td>\n",
       "      <td>1</td>\n",
       "      <td>SELECT ?var0 ?var1 ?var2 ?var2Name ?var4 ?var5...</td>\n",
       "      <td>SELECT ?var0 ?var1 ?var2 ?var2Name ?var4 ?var5...</td>\n",
       "    </tr>\n",
       "    <tr>\n",
       "      <th>313</th>\n",
       "      <td>PREFIX xsd: &lt;http://www.w3.org/2001/XMLSchema#...</td>\n",
       "      <td>1</td>\n",
       "      <td>SELECT ?var0 ?var1 ?var2 ?var2Name ?var4 ?var5...</td>\n",
       "      <td>SELECT ?var0 ?var1 ?var2 ?var2Name ?var4 ?var5...</td>\n",
       "    </tr>\n",
       "    <tr>\n",
       "      <th>314</th>\n",
       "      <td>PREFIX xsd: &lt;http://www.w3.org/2001/XMLSchema#...</td>\n",
       "      <td>1</td>\n",
       "      <td>SELECT ?var0 ?var1 ?var2 ?var2Name ?var4 ?var5...</td>\n",
       "      <td>SELECT ?var0 ?var1 ?var2 ?var2Name ?var4 ?var5...</td>\n",
       "    </tr>\n",
       "    <tr>\n",
       "      <th>300</th>\n",
       "      <td>PREFIX rdf: &lt;http://www.w3.org/1999/02/22-rdf-...</td>\n",
       "      <td>1</td>\n",
       "      <td>SELECT ?var0 ?var1 ?var2 ?var2Name ?var4 ?var5...</td>\n",
       "      <td>SELECT ?var0 ?var1 ?var2 ?var2Name ?var4 ?var5...</td>\n",
       "    </tr>\n",
       "  </tbody>\n",
       "</table>\n",
       "<p>909 rows × 4 columns</p>\n",
       "</div>"
      ],
      "text/plain": [
       "                                                 query  count  \\\n",
       "1    PREFIX rdf: <http://www.w3.org/1999/02/22-rdf-...  17708   \n",
       "0    PREFIX rdf: <http://www.w3.org/1999/02/22-rdf-...  17708   \n",
       "2    PREFIX rdf: <http://www.w3.org/1999/02/22-rdf-...  17707   \n",
       "3    PREFIX xsd: <http://www.w3.org/2001/XMLSchema#...   6838   \n",
       "4    PREFIX rdf: <http://www.w3.org/1999/02/22-rdf-...   1088   \n",
       "..                                                 ...    ...   \n",
       "311  PREFIX rdf: <http://www.w3.org/1999/02/22-rdf-...      1   \n",
       "312  PREFIX rdf: <http://www.w3.org/1999/02/22-rdf-...      1   \n",
       "313  PREFIX xsd: <http://www.w3.org/2001/XMLSchema#...      1   \n",
       "314  PREFIX xsd: <http://www.w3.org/2001/XMLSchema#...      1   \n",
       "300  PREFIX rdf: <http://www.w3.org/1999/02/22-rdf-...      1   \n",
       "\n",
       "                                         T_generalized  \\\n",
       "1    SELECT ?var0 ?var1 WHERE { { SELECT ?var2 WHER...   \n",
       "0    SELECT ?var0 ?var1 WHERE { { SELECT ?var2 WHER...   \n",
       "2    SELECT ?var0 ?var1 WHERE { { SELECT ?var2 WHER...   \n",
       "3    SELECT ?var0 WHERE { GRAPH ?var0 { } FILTER re...   \n",
       "4    SELECT * WHERE { GRAPH ?var5ar0 { ?var5ar1 $_1...   \n",
       "..                                                 ...   \n",
       "311  SELECT ?var0 ?var1 ?var2 ?var2Name ?var4 ?var5...   \n",
       "312  SELECT ?var0 ?var1 ?var2 ?var2Name ?var4 ?var5...   \n",
       "313  SELECT ?var0 ?var1 ?var2 ?var2Name ?var4 ?var5...   \n",
       "314  SELECT ?var0 ?var1 ?var2 ?var2Name ?var4 ?var5...   \n",
       "300  SELECT ?var0 ?var1 ?var2 ?var2Name ?var4 ?var5...   \n",
       "\n",
       "                                         T_specialized  \n",
       "1    SELECT ?var0 ?var1 WHERE { { SELECT ?var2 WHER...  \n",
       "0    SELECT ?var0 ?var1 WHERE { { SELECT ?var2 WHER...  \n",
       "2    SELECT ?var0 ?var1 WHERE { { SELECT ?var2 WHER...  \n",
       "3    SELECT ?var0 WHERE { GRAPH ?var0 { } FILTER re...  \n",
       "4    SELECT * WHERE { GRAPH ?var5ar0 { ?var5ar1 $_1...  \n",
       "..                                                 ...  \n",
       "311  SELECT ?var0 ?var1 ?var2 ?var2Name ?var4 ?var5...  \n",
       "312  SELECT ?var0 ?var1 ?var2 ?var2Name ?var4 ?var5...  \n",
       "313  SELECT ?var0 ?var1 ?var2 ?var2Name ?var4 ?var5...  \n",
       "314  SELECT ?var0 ?var1 ?var2 ?var2Name ?var4 ?var5...  \n",
       "300  SELECT ?var0 ?var1 ?var2 ?var2Name ?var4 ?var5...  \n",
       "\n",
       "[909 rows x 4 columns]"
      ]
     },
     "execution_count": 287,
     "metadata": {},
     "output_type": "execute_result"
    }
   ],
   "source": [
    "df"
   ]
  },
  {
   "cell_type": "code",
   "execution_count": 288,
   "id": "5d41dcd4-2c5b-453c-b90e-01a080a2dbc5",
   "metadata": {},
   "outputs": [
    {
     "name": "stdout",
     "output_type": "stream",
     "text": [
      "7\n",
      "7\n"
     ]
    }
   ],
   "source": [
    "print(len(df['T_generalized'].unique()))\n",
    "print(len(df['T_specialized'].unique()))"
   ]
  },
  {
   "cell_type": "code",
   "execution_count": 289,
   "id": "57e08eb9-c594-4439-affc-ef4c532087e3",
   "metadata": {},
   "outputs": [
    {
     "name": "stderr",
     "output_type": "stream",
     "text": [
      "/tmp/ipykernel_129685/100289330.py:1: FutureWarning: Series.__getitem__ treating keys as positions is deprecated. In a future version, integer keys will always be treated as labels (consistent with DataFrame behavior). To access a value by position, use `ser.iloc[pos]`\n",
      "  df.loc[5][0]\n"
     ]
    },
    {
     "data": {
      "text/plain": [
       "'PREFIX rdf: <http://www.w3.org/1999/02/22-rdf-syntax-ns#> PREFIX xsd: <http://www.w3.org/2001/XMLSchema#>  SELECT ?pod ?node ?measurement ?measurementName ?timestamp ?unit ?value ?startTime ?endTime WHERE {   BIND(1738681200000 as ?intervalStart).   BIND(1738683000000 as ?intervalEnd).   {     SELECT ?graphURI ?timeslice WHERE {       GRAPH ?graphURI {}       FILTER regex(str(?graphURI), \"^timestamp:\")       BIND(xsd:integer(replace(str(?graphURI), \"^timestamp:\", \"\")) as ?timeslice).     }   }   FILTER(?timeslice >= ?intervalStart && ?timeslice < ?intervalEnd)   GRAPH ?graphURI {     {       SELECT ?pod ?measurement ?node ?measurementName ?ts ?value ?unit ?startTime ?endTime WHERE {         ?pod <glc:hasDescription> \"Pod\".         ?pod <glc:hasMeasurement> ?measurement.         ?pod <glc:consumes> ?node.         ?measurement <glc:hasDescription> ?measurementName.         ?measurement <glc:hasTimestamp> ?ts.         ?measurement <glc:hasValue> ?value.         ?measurement <glc:measuredIn> ?unit.         ?pod <glc:hasStatus> ?status.         OPTIONAL{ ?status <glc:startTime> ?startTime }         OPTIONAL{ ?status <glc:endTime> ?endTime }       }     }     UNION     {       SELECT ?pod ?measurement ?node ?measurementName ?ts ?value ?unit ?startTime ?endTime WHERE {         BIND(0 as ?ts).         ?pod <glc:hasDescription> \"Pod\".         ?pod <glc:consumes> ?node.         ?task_definition rdf:type <glc:AssignedTask> .         ?task_definition <glc:makes> ?pod.         ?task_definition <glc:hasConstraint> ?measurement.         ?measurement <glc:hasDescription> ?measurementName.         ?measurement <glc:maxValue> ?value.         ?measurement <glc:measuredIn> ?unit.         ?pod <glc:hasStatus> ?status.         OPTIONAL{ ?status <glc:startTime> ?startTime }         OPTIONAL{ ?status <glc:endTime> ?endTime }       }     }     UNION     {       SELECT ?pod ?measurement ?node ?measurementName ?ts ?value ?unit ?startTime ?endTime WHERE {         ?pod <glc:hasDescription> \"Pod\".         ?pod <glc:consumes> ?node.         ?replicaset <glc:hasDescription> \"ReplicaSet\".         ?replicaset rdf:type <glc:AssignedTask> .         ?replicaset <glc:makes> ?pod.         ?task_definition rdf:type <glc:AssignedTask> .         ?task_definition <glc:makes> ?replicaset.         ?task_definition <glc:hasConstraint> ?measurement.         ?measurement <glc:hasDescription> ?measurementName.         ?measurement <glc:hasTimestamp> ?ts.         ?measurement <glc:hasValue> ?value.         ?measurement <glc:measuredIn> ?unit.         ?pod <glc:hasStatus> ?status.         OPTIONAL{ ?status <glc:startTime> ?startTime }         OPTIONAL{ ?status <glc:endTime> ?endTime }       }     }   }   FILTER(?pod = <https://kubernetes.local/#monitoring.monitoring-stack-alertmanager-0>)   BIND(IF(?ts = 0,xsd:integer(replace(str(?graphURI), \"^timestamp:\", \"\")),?ts) as ?timestamp) } ORDER BY DESC(?measurement)\\n'"
      ]
     },
     "execution_count": 289,
     "metadata": {},
     "output_type": "execute_result"
    }
   ],
   "source": [
    "df.loc[5][0]"
   ]
  },
  {
   "cell_type": "code",
   "execution_count": 290,
   "id": "81793822-8438-4790-95f1-d0081d9fa0df",
   "metadata": {},
   "outputs": [
    {
     "name": "stderr",
     "output_type": "stream",
     "text": [
      "/tmp/ipykernel_129685/2440995819.py:1: FutureWarning: Series.__getitem__ treating keys as positions is deprecated. In a future version, integer keys will always be treated as labels (consistent with DataFrame behavior). To access a value by position, use `ser.iloc[pos]`\n",
      "  df.loc[5][2]\n"
     ]
    },
    {
     "data": {
      "text/plain": [
       "'SELECT ?var0 ?var1 ?var2 ?var2Name ?var4 ?var5 ?var6 ?var7 ?var8 WHERE { { { { { BIND ( $_1 <https://kubernetes.local/#monitoring.monitoring-stack-alertmanager-0> ?var9 ) BIND ( $_3 <https://kubernetes.local/#monitoring.monitoring-stack-alertmanager-0> ?var10 ) } { SELECT ?var11 ?var12 WHERE { { GRAPH ?var11 { } BIND ( <https://kubernetes.local/#monitoring.monitoring-stack-alertmanager-0> ( replace ( str ( ?var11 ) , <https://kubernetes.local/#monitoring.monitoring-stack-alertmanager-0> <https://kubernetes.local/#monitoring.monitoring-stack-alertmanager-0> ) ) <https://kubernetes.local/#monitoring.monitoring-stack-alertmanager-0> ?var12 ) } FILTER regex ( str ( ?var11 ) , <https://kubernetes.local/#monitoring.monitoring-stack-alertmanager-0> ) } } } GRAPH ?var11 { { { { SELECT ?var0 ?var2 ?var1 ?var2Name ?var13 ?var6 ?var5 ?var7 ?var8 WHERE { ?var0 <https://kubernetes.local/#monitoring.monitoring-stack-alertmanager-0> <https://kubernetes.local/#monitoring.monitoring-stack-alertmanager-0> ; <https://kubernetes.local/#monitoring.monitoring-stack-alertmanager-0> ?var2 ; <https://kubernetes.local/#monitoring.monitoring-stack-alertmanager-0> ?var1 . ?var2 <https://kubernetes.local/#monitoring.monitoring-stack-alertmanager-0> ?var2Name ; <https://kubernetes.local/#monitoring.monitoring-stack-alertmanager-0> ?var13 ; <https://kubernetes.local/#monitoring.monitoring-stack-alertmanager-0> ?var6 ; <https://kubernetes.local/#monitoring.monitoring-stack-alertmanager-0> ?var5 . ?var0 <https://kubernetes.local/#monitoring.monitoring-stack-alertmanager-0> ?var14 OPTIONAL { ?var14 <https://kubernetes.local/#monitoring.monitoring-stack-alertmanager-0> ?var7 } OPTIONAL { ?var14 <https://kubernetes.local/#monitoring.monitoring-stack-alertmanager-0>0 ?var8 } } } } UNION { { SELECT ?var0 ?var2 ?var1 ?var2Name ?var13 ?var6 ?var5 ?var7 ?var8 WHERE { BIND ( <https://kubernetes.local/#monitoring.monitoring-stack-alertmanager-0>1 <https://kubernetes.local/#monitoring.monitoring-stack-alertmanager-0>2 ?var13 ) ?var0 <https://kubernetes.local/#monitoring.monitoring-stack-alertmanager-0>3 <https://kubernetes.local/#monitoring.monitoring-stack-alertmanager-0>4 ; <https://kubernetes.local/#monitoring.monitoring-stack-alertmanager-0>5 ?var1 . ?var15 a <https://kubernetes.local/#monitoring.monitoring-stack-alertmanager-0>6 ; <https://kubernetes.local/#monitoring.monitoring-stack-alertmanager-0>7 ?var0 ; <https://kubernetes.local/#monitoring.monitoring-stack-alertmanager-0>8 ?var2 . ?var2 <https://kubernetes.local/#monitoring.monitoring-stack-alertmanager-0>9 ?var2Name ; <https://kubernetes.local/#monitoring.monitoring-stack-alertmanager-0> ?var6 ; <https://kubernetes.local/#monitoring.monitoring-stack-alertmanager-0> ?var5 . ?var0 <https://kubernetes.local/#monitoring.monitoring-stack-alertmanager-0> ?var14 OPTIONAL { ?var14 <https://kubernetes.local/#monitoring.monitoring-stack-alertmanager-0> ?var7 } OPTIONAL { ?var14 <https://kubernetes.local/#monitoring.monitoring-stack-alertmanager-0> ?var8 } } } } } UNION { { SELECT ?var0 ?var2 ?var1 ?var2Name ?var13 ?var6 ?var5 ?var7 ?var8 WHERE { ?var0 <https://kubernetes.local/#monitoring.monitoring-stack-alertmanager-0> <https://kubernetes.local/#monitoring.monitoring-stack-alertmanager-0> ; <https://kubernetes.local/#monitoring.monitoring-stack-alertmanager-0> ?var1 . ?var16 <https://kubernetes.local/#monitoring.monitoring-stack-alertmanager-0> <https://kubernetes.local/#monitoring.monitoring-stack-alertmanager-0> ; a <https://kubernetes.local/#monitoring.monitoring-stack-alertmanager-0>0 ; <https://kubernetes.local/#monitoring.monitoring-stack-alertmanager-0>1 ?var0 . ?var15 a <https://kubernetes.local/#monitoring.monitoring-stack-alertmanager-0>2 ; <https://kubernetes.local/#monitoring.monitoring-stack-alertmanager-0>3 ?var16 ; <https://kubernetes.local/#monitoring.monitoring-stack-alertmanager-0>4 ?var2 . ?var2 <https://kubernetes.local/#monitoring.monitoring-stack-alertmanager-0>5 ?var2Name ; <https://kubernetes.local/#monitoring.monitoring-stack-alertmanager-0>6 ?var13 ; <https://kubernetes.local/#monitoring.monitoring-stack-alertmanager-0>7 ?var6 ; <https://kubernetes.local/#monitoring.monitoring-stack-alertmanager-0>8 ?var5 . ?var0 <https://kubernetes.local/#monitoring.monitoring-stack-alertmanager-0>9 ?var14 OPTIONAL { ?var14 <https://kubernetes.local/#monitoring.monitoring-stack-alertmanager-0>0 ?var7 } OPTIONAL { ?var14 <https://kubernetes.local/#monitoring.monitoring-stack-alertmanager-0>1 ?var8 } } } <https://kubernetes.local/#monitoring.monitoring-stack-alertmanager-0>2 } BIND ( <https://kubernetes.local/#monitoring.monitoring-stack-alertmanager-0>3 ( ( ?var13 = <https://kubernetes.local/#monitoring.monitoring-stack-alertmanager-0>4 ) , <https://kubernetes.local/#monitoring.monitoring-stack-alertmanager-0>5 ( replace ( str ( ?var11 ) , <https://kubernetes.local/#monitoring.monitoring-stack-alertmanager-0>6 <https://kubernetes.local/#monitoring.monitoring-stack-alertmanager-0>7 ) ) , ?var13 ) <https://kubernetes.local/#monitoring.monitoring-stack-alertmanager-0>8 ?var4 ) } FILTER ( ( ?var12 <https://kubernetes.local/#monitoring.monitoring-stack-alertmanager-0>9 ?var9 ) && ( ?var12 < ?var10 ) ) FILTER ( ?var0 = <https://kubernetes.local/#monitoring.monitoring-stack-alertmanager-0>0 ) } ORDER BY DESC ( ?var2 )\\n'"
      ]
     },
     "execution_count": 290,
     "metadata": {},
     "output_type": "execute_result"
    }
   ],
   "source": [
    "df.loc[5][2]"
   ]
  },
  {
   "cell_type": "code",
   "execution_count": 291,
   "id": "94bac55a-892e-4509-aac3-82541b4148e5",
   "metadata": {
    "scrolled": true
   },
   "outputs": [
    {
     "name": "stderr",
     "output_type": "stream",
     "text": [
      "/tmp/ipykernel_129685/677190424.py:1: FutureWarning: Series.__getitem__ treating keys as positions is deprecated. In a future version, integer keys will always be treated as labels (consistent with DataFrame behavior). To access a value by position, use `ser.iloc[pos]`\n",
      "  df.loc[5][3]\n"
     ]
    },
    {
     "data": {
      "text/plain": [
       "'SELECT ?var0 ?var1 ?var2 ?var2Name ?var4 ?var5 ?var6 ?var7 ?var8 WHERE { { { { { BIND ( $_1 <https://kubernetes.local/#monitoring.monitoring-stack-alertmanager-0> ?var9 ) BIND ( $_3 <https://kubernetes.local/#monitoring.monitoring-stack-alertmanager-0> ?var10 ) } { SELECT ?var11 ?var12 WHERE { { GRAPH ?var11 { } BIND ( <https://kubernetes.local/#monitoring.monitoring-stack-alertmanager-0> ( replace ( str ( ?var11 ) , <https://kubernetes.local/#monitoring.monitoring-stack-alertmanager-0> <https://kubernetes.local/#monitoring.monitoring-stack-alertmanager-0> ) ) <https://kubernetes.local/#monitoring.monitoring-stack-alertmanager-0> ?var12 ) } FILTER regex ( str ( ?var11 ) , <https://kubernetes.local/#monitoring.monitoring-stack-alertmanager-0> ) } } } GRAPH ?var11 { { { { SELECT ?var0 ?var2 ?var1 ?var2Name ?var13 ?var6 ?var5 ?var7 ?var8 WHERE { ?var0 <https://kubernetes.local/#monitoring.monitoring-stack-alertmanager-0> <https://kubernetes.local/#monitoring.monitoring-stack-alertmanager-0> ; <https://kubernetes.local/#monitoring.monitoring-stack-alertmanager-0> ?var2 ; <https://kubernetes.local/#monitoring.monitoring-stack-alertmanager-0> ?var1 . ?var2 <https://kubernetes.local/#monitoring.monitoring-stack-alertmanager-0> ?var2Name ; <https://kubernetes.local/#monitoring.monitoring-stack-alertmanager-0> ?var13 ; <https://kubernetes.local/#monitoring.monitoring-stack-alertmanager-0> ?var6 ; <https://kubernetes.local/#monitoring.monitoring-stack-alertmanager-0> ?var5 . ?var0 <https://kubernetes.local/#monitoring.monitoring-stack-alertmanager-0> ?var14 OPTIONAL { ?var14 <https://kubernetes.local/#monitoring.monitoring-stack-alertmanager-0> ?var7 } OPTIONAL { ?var14 <https://kubernetes.local/#monitoring.monitoring-stack-alertmanager-0>0 ?var8 } } } } UNION { { SELECT ?var0 ?var2 ?var1 ?var2Name ?var13 ?var6 ?var5 ?var7 ?var8 WHERE { BIND ( <https://kubernetes.local/#monitoring.monitoring-stack-alertmanager-0>1 <https://kubernetes.local/#monitoring.monitoring-stack-alertmanager-0>2 ?var13 ) ?var0 <https://kubernetes.local/#monitoring.monitoring-stack-alertmanager-0>3 <https://kubernetes.local/#monitoring.monitoring-stack-alertmanager-0>4 ; <https://kubernetes.local/#monitoring.monitoring-stack-alertmanager-0>5 ?var1 . ?var15 a <https://kubernetes.local/#monitoring.monitoring-stack-alertmanager-0>6 ; <https://kubernetes.local/#monitoring.monitoring-stack-alertmanager-0>7 ?var0 ; <https://kubernetes.local/#monitoring.monitoring-stack-alertmanager-0>8 ?var2 . ?var2 <https://kubernetes.local/#monitoring.monitoring-stack-alertmanager-0>9 ?var2Name ; <https://kubernetes.local/#monitoring.monitoring-stack-alertmanager-0> ?var6 ; <https://kubernetes.local/#monitoring.monitoring-stack-alertmanager-0> ?var5 . ?var0 <https://kubernetes.local/#monitoring.monitoring-stack-alertmanager-0> ?var14 OPTIONAL { ?var14 <https://kubernetes.local/#monitoring.monitoring-stack-alertmanager-0> ?var7 } OPTIONAL { ?var14 <https://kubernetes.local/#monitoring.monitoring-stack-alertmanager-0> ?var8 } } } } } UNION { { SELECT ?var0 ?var2 ?var1 ?var2Name ?var13 ?var6 ?var5 ?var7 ?var8 WHERE { ?var0 <https://kubernetes.local/#monitoring.monitoring-stack-alertmanager-0> <https://kubernetes.local/#monitoring.monitoring-stack-alertmanager-0> ; <https://kubernetes.local/#monitoring.monitoring-stack-alertmanager-0> ?var1 . ?var16 <https://kubernetes.local/#monitoring.monitoring-stack-alertmanager-0> <https://kubernetes.local/#monitoring.monitoring-stack-alertmanager-0> ; a <https://kubernetes.local/#monitoring.monitoring-stack-alertmanager-0>0 ; <https://kubernetes.local/#monitoring.monitoring-stack-alertmanager-0>1 ?var0 . ?var15 a <https://kubernetes.local/#monitoring.monitoring-stack-alertmanager-0>2 ; <https://kubernetes.local/#monitoring.monitoring-stack-alertmanager-0>3 ?var16 ; <https://kubernetes.local/#monitoring.monitoring-stack-alertmanager-0>4 ?var2 . ?var2 <https://kubernetes.local/#monitoring.monitoring-stack-alertmanager-0>5 ?var2Name ; <https://kubernetes.local/#monitoring.monitoring-stack-alertmanager-0>6 ?var13 ; <https://kubernetes.local/#monitoring.monitoring-stack-alertmanager-0>7 ?var6 ; <https://kubernetes.local/#monitoring.monitoring-stack-alertmanager-0>8 ?var5 . ?var0 <https://kubernetes.local/#monitoring.monitoring-stack-alertmanager-0>9 ?var14 OPTIONAL { ?var14 <https://kubernetes.local/#monitoring.monitoring-stack-alertmanager-0>0 ?var7 } OPTIONAL { ?var14 <https://kubernetes.local/#monitoring.monitoring-stack-alertmanager-0>1 ?var8 } } } <https://kubernetes.local/#monitoring.monitoring-stack-alertmanager-0>2 } BIND ( <https://kubernetes.local/#monitoring.monitoring-stack-alertmanager-0>3 ( ( ?var13 = <https://kubernetes.local/#monitoring.monitoring-stack-alertmanager-0>4 ) , <https://kubernetes.local/#monitoring.monitoring-stack-alertmanager-0>5 ( replace ( str ( ?var11 ) , <https://kubernetes.local/#monitoring.monitoring-stack-alertmanager-0>6 <https://kubernetes.local/#monitoring.monitoring-stack-alertmanager-0>7 ) ) , ?var13 ) <https://kubernetes.local/#monitoring.monitoring-stack-alertmanager-0>8 ?var4 ) } FILTER ( ( ?var12 <https://kubernetes.local/#monitoring.monitoring-stack-alertmanager-0>9 ?var9 ) && ( ?var12 < ?var10 ) ) FILTER ( ?var0 = <https://kubernetes.local/#monitoring.monitoring-stack-alertmanager-0>0 ) } ORDER BY DESC ( ?var2 )\\n'"
      ]
     },
     "execution_count": 291,
     "metadata": {},
     "output_type": "execute_result"
    }
   ],
   "source": [
    "df.loc[5][3]"
   ]
  },
  {
   "cell_type": "markdown",
   "id": "c398914f-8dc0-453f-9b88-e661641be889",
   "metadata": {},
   "source": [
    "# Entropy with discovered templates"
   ]
  },
  {
   "cell_type": "code",
   "execution_count": 292,
   "id": "5f40d006-43b8-4c57-966b-affeb42ba284",
   "metadata": {},
   "outputs": [],
   "source": [
    "grouped_df = df.groupby(by=['T_specialized'])[['count']].sum()\n",
    "total = grouped_df['count'].sum()\n",
    "grouped_df['count'] = grouped_df['count'] / total"
   ]
  },
  {
   "cell_type": "code",
   "execution_count": 293,
   "id": "3b2db7fe-6bca-4491-a813-5b9efe7c88cc",
   "metadata": {},
   "outputs": [
    {
     "name": "stdout",
     "output_type": "stream",
     "text": [
      "Query as specialized template entropy: 0.5308617587749136\n"
     ]
    }
   ],
   "source": [
    "print(f'Query as specialized template entropy: {entropy(grouped_df[\"count\"])}')"
   ]
  },
  {
   "cell_type": "code",
   "execution_count": null,
   "id": "5dee5acf-3c22-42b3-b495-085d18b9f2c6",
   "metadata": {},
   "outputs": [],
   "source": []
  }
 ],
 "metadata": {
  "kernelspec": {
   "display_name": "Python 3 (ipykernel)",
   "language": "python",
   "name": "python3"
  },
  "language_info": {
   "codemirror_mode": {
    "name": "ipython",
    "version": 3
   },
   "file_extension": ".py",
   "mimetype": "text/x-python",
   "name": "python",
   "nbconvert_exporter": "python",
   "pygments_lexer": "ipython3",
   "version": "3.11.4"
  }
 },
 "nbformat": 4,
 "nbformat_minor": 5
}
